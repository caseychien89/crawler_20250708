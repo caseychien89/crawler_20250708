{
 "cells": [
  {
   "cell_type": "code",
   "execution_count": 1,
   "id": "2412a6d5",
   "metadata": {},
   "outputs": [
    {
     "data": {
      "text/plain": [
       "0"
      ]
     },
     "execution_count": 1,
     "metadata": {},
     "output_type": "execute_result"
    }
   ],
   "source": [
    "i=0\n",
    "i+25\n",
    "i"
   ]
  },
  {
   "cell_type": "code",
   "execution_count": null,
   "id": "08a0afa7",
   "metadata": {},
   "outputs": [],
   "source": [
    "#複合式指令\n"
   ]
  },
  {
   "cell_type": "code",
   "execution_count": 2,
   "id": "64f7bb76",
   "metadata": {},
   "outputs": [
    {
     "name": "stdout",
     "output_type": "stream",
     "text": [
      "計數器:1\n",
      "計數器:2\n",
      "計數器:3\n"
     ]
    }
   ],
   "source": [
    "i=0\n",
    "while(True):\n",
    "    is_play=input('您還繼續玩嗎？(y,n)')\n",
    "    if is_play ==\"n\":\n",
    "        break\n",
    "    i+= 1\n",
    "    print(f'計數器:{i}')"
   ]
  }
 ],
 "metadata": {
  "kernelspec": {
   "display_name": "venv2",
   "language": "python",
   "name": "python3"
  },
  "language_info": {
   "codemirror_mode": {
    "name": "ipython",
    "version": 3
   },
   "file_extension": ".py",
   "mimetype": "text/x-python",
   "name": "python",
   "nbconvert_exporter": "python",
   "pygments_lexer": "ipython3",
   "version": "3.12.11"
  }
 },
 "nbformat": 4,
 "nbformat_minor": 5
}
