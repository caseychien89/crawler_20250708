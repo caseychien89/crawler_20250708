{
 "cells": [
  {
   "cell_type": "code",
   "execution_count": null,
   "id": "cd0f6028",
   "metadata": {},
   "outputs": [],
   "source": [
    "age=18\n",
    "\n",
    "if age>=18:\n",
    "    print(\"你已成年，可以投票!\")"
   ]
  }
 ],
 "metadata": {
  "language_info": {
   "name": "python"
  }
 },
 "nbformat": 4,
 "nbformat_minor": 5
}
