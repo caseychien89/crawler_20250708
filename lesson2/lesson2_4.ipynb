{
 "cells": [
  {
   "cell_type": "code",
   "execution_count": 2,
   "id": "cd0f6028",
   "metadata": {},
   "outputs": [
    {
     "name": "stdout",
     "output_type": "stream",
     "text": [
      "你已成年，可以投票!\n"
     ]
    }
   ],
   "source": [
    "age=18\n",
    "\n",
    "if age>=18:\n",
    "    print(\"你已成年，可以投票!\")"
   ]
  },
  {
   "cell_type": "code",
   "execution_count": 1,
   "id": "ca5f1a59",
   "metadata": {},
   "outputs": [
    {
     "name": "stdout",
     "output_type": "stream",
     "text": [
      "成績：F\n"
     ]
    }
   ],
   "source": [
    "#多項選擇\n",
    "score=54\n",
    "\n",
    "if score >= 90:\n",
    "    print(\"成績：A\")\n",
    "elif score >= 80:\n",
    "    print(\"成績：B\")\n",
    "elif score >= 70:\n",
    "    print(\"成績：C\")\n",
    "else:\n",
    "    print(\"成績：F\")\n"
   ]
  }
 ],
 "metadata": {
  "kernelspec": {
   "display_name": "venv2",
   "language": "python",
   "name": "python3"
  },
  "language_info": {
   "codemirror_mode": {
    "name": "ipython",
    "version": 3
   },
   "file_extension": ".py",
   "mimetype": "text/x-python",
   "name": "python",
   "nbconvert_exporter": "python",
   "pygments_lexer": "ipython3",
   "version": "3.12.11"
  }
 },
 "nbformat": 4,
 "nbformat_minor": 5
}
