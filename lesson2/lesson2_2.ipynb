{
 "cells": [
  {
   "cell_type": "code",
   "execution_count": 1,
   "id": "43675800",
   "metadata": {},
   "outputs": [
    {
     "name": "stdout",
     "output_type": "stream",
     "text": [
      "15\n"
     ]
    }
   ],
   "source": [
    "x = 10\n",
    "y = 5\n",
    "z = x + y\n",
    "print(z)  # 輸出 15\n"
   ]
  },
  {
   "cell_type": "code",
   "execution_count": 2,
   "id": "77f4f887",
   "metadata": {},
   "outputs": [
    {
     "name": "stdout",
     "output_type": "stream",
     "text": [
      "Hello, Alice\n"
     ]
    }
   ],
   "source": [
    "name = \"Alice\"\n",
    "greeting = \"Hello, \" + name\n",
    "print(greeting)  # 輸出 Hello, Alice\n"
   ]
  },
  {
   "cell_type": "code",
   "execution_count": 2,
   "id": "90869664",
   "metadata": {},
   "outputs": [
    {
     "ename": "NameError",
     "evalue": "name 'TURE' is not defined",
     "output_type": "error",
     "traceback": [
      "\u001b[31m---------------------------------------------------------------------------\u001b[39m",
      "\u001b[31mNameError\u001b[39m                                 Traceback (most recent call last)",
      "\u001b[36mCell\u001b[39m\u001b[36m \u001b[39m\u001b[32mIn[2]\u001b[39m\u001b[32m, line 4\u001b[39m\n\u001b[32m      2\u001b[39m age=\u001b[32m25\u001b[39m        \u001b[38;5;66;03m#整數(integer)\u001b[39;00m\n\u001b[32m      3\u001b[39m height=\u001b[32m1.65\u001b[39m   \u001b[38;5;66;03m#浮點數(float)\u001b[39;00m\n\u001b[32m----> \u001b[39m\u001b[32m4\u001b[39m is_student=\u001b[43mTURE\u001b[49m \u001b[38;5;66;03m# 布林值(booline)\u001b[39;00m\n",
      "\u001b[31mNameError\u001b[39m: name 'TURE' is not defined"
     ]
    }
   ],
   "source": [
    "name=\"ALICE\"  #字串(STRING)\n",
    "age=25        #整數(integer)\n",
    "height=1.65   #浮點數(float)\n",
    "is_student=TURE # 布林值(booline)"
   ]
  },
  {
   "cell_type": "code",
   "execution_count": null,
   "id": "a66e9dac",
   "metadata": {},
   "outputs": [],
   "source": [
    "a=10\n",
    "b=5\n"
   ]
  },
  {
   "cell_type": "code",
   "execution_count": 3,
   "id": "5f633f2d",
   "metadata": {},
   "outputs": [],
   "source": [
    "import statistics\n"
   ]
  },
  {
   "cell_type": "code",
   "execution_count": 4,
   "id": "579b7c39",
   "metadata": {},
   "outputs": [
    {
     "data": {
      "text/plain": [
       "2.5"
      ]
     },
     "execution_count": 4,
     "metadata": {},
     "output_type": "execute_result"
    }
   ],
   "source": [
    "statistics.mean([1, 2, 3, 4])  # 2.5\n"
   ]
  },
  {
   "cell_type": "code",
   "execution_count": 5,
   "id": "a1b46a02",
   "metadata": {},
   "outputs": [
    {
     "data": {
      "text/plain": [
       "2.5"
      ]
     },
     "execution_count": 5,
     "metadata": {},
     "output_type": "execute_result"
    }
   ],
   "source": [
    "statistics.median([1, 3, 2])       # 2\n",
    "statistics.median([1, 2, 3, 4])    # 2.5\n"
   ]
  }
 ],
 "metadata": {
  "kernelspec": {
   "display_name": "venv2",
   "language": "python",
   "name": "python3"
  },
  "language_info": {
   "codemirror_mode": {
    "name": "ipython",
    "version": 3
   },
   "file_extension": ".py",
   "mimetype": "text/x-python",
   "name": "python",
   "nbconvert_exporter": "python",
   "pygments_lexer": "ipython3",
   "version": "3.12.11"
  }
 },
 "nbformat": 4,
 "nbformat_minor": 5
}
