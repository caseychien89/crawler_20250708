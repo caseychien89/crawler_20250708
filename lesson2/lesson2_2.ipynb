{
 "cells": [
  {
   "cell_type": "code",
   "execution_count": 1,
   "id": "43675800",
   "metadata": {},
   "outputs": [
    {
     "name": "stdout",
     "output_type": "stream",
     "text": [
      "15\n"
     ]
    }
   ],
   "source": [
    "x = 10\n",
    "y = 5\n",
    "z = x + y\n",
    "print(z)  # 輸出 15\n"
   ]
  },
  {
   "cell_type": "code",
   "execution_count": 2,
   "id": "77f4f887",
   "metadata": {},
   "outputs": [
    {
     "name": "stdout",
     "output_type": "stream",
     "text": [
      "Hello, Alice\n"
     ]
    }
   ],
   "source": [
    "name = \"Alice\"\n",
    "greeting = \"Hello, \" + name\n",
    "print(greeting)  # 輸出 Hello, Alice\n"
   ]
  },
  {
   "cell_type": "code",
   "execution_count": 1,
   "id": "90869664",
   "metadata": {},
   "outputs": [
    {
     "ename": "NameError",
     "evalue": "name 'TURE' is not defined",
     "output_type": "error",
     "traceback": [
      "\u001b[31m---------------------------------------------------------------------------\u001b[39m",
      "\u001b[31mNameError\u001b[39m                                 Traceback (most recent call last)",
      "\u001b[36mCell\u001b[39m\u001b[36m \u001b[39m\u001b[32mIn[1]\u001b[39m\u001b[32m, line 4\u001b[39m\n\u001b[32m      2\u001b[39m age=\u001b[32m25\u001b[39m        \u001b[38;5;66;03m#整數(integer)\u001b[39;00m\n\u001b[32m      3\u001b[39m height=\u001b[32m1.65\u001b[39m   \u001b[38;5;66;03m#浮點數(float)\u001b[39;00m\n\u001b[32m----> \u001b[39m\u001b[32m4\u001b[39m is_student=\u001b[43mTURE\u001b[49m \u001b[38;5;66;03m# 布林值()\u001b[39;00m\n",
      "\u001b[31mNameError\u001b[39m: name 'TURE' is not defined"
     ]
    }
   ],
   "source": [
    "name=\"ALICE\"  #字串(STRING)\n",
    "age=25        #整數(integer)\n",
    "height=1.65   #浮點數(float)\n",
    "is_student=TURE # 布林值()"
   ]
  }
 ],
 "metadata": {
  "kernelspec": {
   "display_name": "venv2",
   "language": "python",
   "name": "python3"
  },
  "language_info": {
   "codemirror_mode": {
    "name": "ipython",
    "version": 3
   },
   "file_extension": ".py",
   "mimetype": "text/x-python",
   "name": "python",
   "nbconvert_exporter": "python",
   "pygments_lexer": "ipython3",
   "version": "3.12.11"
  }
 },
 "nbformat": 4,
 "nbformat_minor": 5
}
