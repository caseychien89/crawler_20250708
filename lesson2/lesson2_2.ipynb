{
 "cells": [
  {
   "cell_type": "code",
   "execution_count": 1,
   "id": "43675800",
   "metadata": {},
   "outputs": [
    {
     "name": "stdout",
     "output_type": "stream",
     "text": [
      "15\n"
     ]
    }
   ],
   "source": [
    "x = 10\n",
    "y = 5\n",
    "z = x + y\n",
    "print(z)  # 輸出 15\n"
   ]
  },
  {
   "cell_type": "code",
   "execution_count": 2,
   "id": "77f4f887",
   "metadata": {},
   "outputs": [
    {
     "name": "stdout",
     "output_type": "stream",
     "text": [
      "Hello, Alice\n"
     ]
    }
   ],
   "source": [
    "name = \"Alice\"\n",
    "greeting = \"Hello, \" + name\n",
    "print(greeting)  # 輸出 Hello, Alice\n"
   ]
  }
 ],
 "metadata": {
  "kernelspec": {
   "display_name": "venv2",
   "language": "python",
   "name": "python3"
  },
  "language_info": {
   "codemirror_mode": {
    "name": "ipython",
    "version": 3
   },
   "file_extension": ".py",
   "mimetype": "text/x-python",
   "name": "python",
   "nbconvert_exporter": "python",
   "pygments_lexer": "ipython3",
   "version": "3.12.11"
  }
 },
 "nbformat": 4,
 "nbformat_minor": 5
}
